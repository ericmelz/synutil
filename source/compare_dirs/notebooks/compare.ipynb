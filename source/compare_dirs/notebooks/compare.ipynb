{
 "cells": [
  {
   "cell_type": "code",
   "execution_count": 121,
   "id": "c2210d20-3513-4a5c-8bc0-3cbe0febaf57",
   "metadata": {},
   "outputs": [],
   "source": [
    "import subprocess\n",
    "import shlex\n",
    "from functools import lru_cache\n",
    "\n",
    "import os"
   ]
  },
  {
   "cell_type": "code",
   "execution_count": 113,
   "id": "deecb7aa-3ce8-4c85-9e37-50bc21f5006a",
   "metadata": {},
   "outputs": [],
   "source": [
    "@lru_cache(maxsize=1000000)\n",
    "def get_directory_size(host, user, path, port=22):\n",
    "    escaped_path = shlex.quote(path)\n",
    "    cmd = f'ssh -p {port} {user}@{host} \"du -sb {escaped_path} | cut -f1\"'\n",
    "    result = subprocess.check_output(cmd, shell=True)\n",
    "    return int(result.strip())"
   ]
  },
  {
   "cell_type": "code",
   "execution_count": 114,
   "id": "a27ebc6c-6634-4c5e-aa61-380f45c6650e",
   "metadata": {},
   "outputs": [],
   "source": [
    "PATH1='/volume1/homes/eric/_Documents/_Records/_By Year/2020/Factual/Laptop Dump/code'\n",
    "HOST1='192.168.2.2'\n",
    "PORT1=8932\n",
    "USER1='eric'\n",
    "\n",
    "PATH2=PATH1\n",
    "HOST2='192.168.2.6'\n",
    "PORT2=PORT1\n",
    "USER2=USER1"
   ]
  },
  {
   "cell_type": "code",
   "execution_count": 115,
   "id": "43f18ea8-4d87-4e8a-a551-9cea41c87846",
   "metadata": {},
   "outputs": [],
   "source": [
    "def print_size(size_byte):\n",
    "    print(f\"Total size: {size_bytes / (1024 ** 3):.2f} GB ({size_bytes:,} bytes)\")"
   ]
  },
  {
   "cell_type": "code",
   "execution_count": 116,
   "id": "6563ec2c-3a9c-41e7-9104-b5603def8f46",
   "metadata": {},
   "outputs": [
    {
     "name": "stdout",
     "output_type": "stream",
     "text": [
      "Total size: 20.66 GB (22,180,776,083 bytes)\n"
     ]
    }
   ],
   "source": [
    "size_bytes = get_directory_size(HOST1, USER1, PATH1, port=PORT1)\n",
    "print_size(size_bytes)"
   ]
  },
  {
   "cell_type": "code",
   "execution_count": 117,
   "id": "77e840b6-71f9-496e-81ae-1042aa1faadf",
   "metadata": {},
   "outputs": [
    {
     "name": "stdout",
     "output_type": "stream",
     "text": [
      "Total size: 16.22 GB (17,420,762,172 bytes)\n"
     ]
    }
   ],
   "source": [
    "size_bytes = get_directory_size(HOST2, USER2, PATH2, port=PORT2)\n",
    "print_size(size_bytes)"
   ]
  },
  {
   "cell_type": "markdown",
   "id": "c80c3dbb-d760-4249-a341-df9b762f0c78",
   "metadata": {},
   "source": [
    "If the directory sizes are different, it could be because\n",
    "* the smaller directory is missing files or directories the other has\n",
    "* the smaller directory has all the files and directories the other has, but one of the subdirs is different"
   ]
  },
  {
   "cell_type": "markdown",
   "id": "d44fa7f1-37e2-41ee-81a8-b3a19f5e190d",
   "metadata": {},
   "source": [
    "Strategy:\n",
    "If dirA and dirB are the same:\n",
    "* return \"the two directories are the same!\" (print that message and return None)\n",
    "\n",
    "If dirA and dirB are different,\n",
    "* list all files in dirA and dirB\n",
    "* compare file list + sizes in dirA and dirB, report differences\n",
    "* list all dirs in dirA and dirB\n",
    "  * If there are different dir names in dirA and dirB, report differences\n",
    "  * for dir names that match:\n",
    "    * recurse\n",
    "  "
   ]
  },
  {
   "cell_type": "code",
   "execution_count": 133,
   "id": "20773d53-d287-4e1d-a44b-6b7604ea1727",
   "metadata": {},
   "outputs": [],
   "source": [
    "def list_files_with_sizes(host, user, path, port=22):\n",
    "    escaped_path = shlex.quote(path)\n",
    "    cmd = (\n",
    "        f'ssh -p {port} {user}@{host} '\n",
    "        f'\"find {escaped_path} -maxdepth 1 -type f -printf \\\\\"%p|%s\\\\\\\\n\\\\\"\"'\n",
    "    )\n",
    "\n",
    "    result = subprocess.check_output(cmd, shell=True, text=True)\n",
    "    files = []\n",
    "    for line in result.strip().split('\\n'):\n",
    "        try:\n",
    "            filepath, size_str = line.split('|')\n",
    "            files.append((filepath, int(size_str)))\n",
    "        except ValueError as e:\n",
    "            print(f\"*** ERROR: {e}, {host=}, {path=}, {line=}, {files=}\")\n",
    "            raise e\n",
    "\n",
    "    return set(files)\n",
    "\n",
    "def list_dirs(host, user, path, port=22):\n",
    "    escaped_path = shlex.quote(path)\n",
    "    cmd = (\n",
    "        f'ssh -p {port} {user}@{host} '\n",
    "        f'\"find {escaped_path} -maxdepth 1 -type d -printf \\\\\"%p\\\\\\\\n\\\\\"\"'\n",
    "    )\n",
    "\n",
    "    result = subprocess.check_output(cmd, shell=True, text=True)\n",
    "    dirs = []\n",
    "    for line in result.strip().split('\\n'):\n",
    "        try:\n",
    "            dirs.append(line)\n",
    "        except ValueError as e:\n",
    "            print(f\"*** ERROR: {e}, line={line}\")\n",
    "            raise e\n",
    "\n",
    "    return set(dirs)\n",
    "\n",
    "def compare(host1, host2, path, user, port=22, level=0):\n",
    "    print(f'{\" \"*level*2}Comparing {path}')\n",
    "    size1 = get_directory_size(host1, user, path, port=port)\n",
    "    size2 = get_directory_size(host2, user, path, port=port)\n",
    "    if size1 == size2:\n",
    "        return\n",
    "    print(f'{\" \"*level*2}{path} sizes are not the same. {size1=} {size2=}')\n",
    "    files1 = list_files_with_sizes(host1, user, path, port)\n",
    "    files2 = list_files_with_sizes(host2, user, path, port)\n",
    "    # files1.add(('bad1', 42))\n",
    "    # files2.add(('bad2', 43))\n",
    "    if files1 - files2:\n",
    "        diff = {os.path.relpath(f[0], path) for f in files1 - files2}\n",
    "        print(f'{\" \"*level*2}Files in 1 but not 2: {diff}')\n",
    "    if files2 - files1:\n",
    "        diff = {os.path.relpath(f[0], path) for f in files2 - files1}\n",
    "        print(f'{\" \"*level*2}Files in 2 but no 1: {diff}')        \n",
    "    dirs1 = list_dirs(host1, user, path, port)\n",
    "    dirs2 = list_dirs(host2, user, path, port)\n",
    "    # dirs1.add('baddir1')\n",
    "    # dirs2.add('baddir2')\n",
    "    if dirs1 - dirs2:\n",
    "        diff = {os.path.relpath(d, path) for d in dirs1 - dirs2}\n",
    "        print(f'{\" \"*level*2}Dirs in 1 but not 2: {diff}')\n",
    "    if dirs2 - dirs1:\n",
    "        diff = {os.path.relpath(d, path) for d in dirs2 - dirs1}\n",
    "        print(f'{\" \"*level*2}Dirs in 2 but not 1: {diff}')       \n",
    "    for subdir in dirs1:\n",
    "        compare(host1, host2, subdir, user, port, level+1)"
   ]
  },
  {
   "cell_type": "code",
   "execution_count": 134,
   "id": "083e7d50-39d1-4865-ac3b-e7e8435c35c6",
   "metadata": {},
   "outputs": [
    {
     "name": "stdout",
     "output_type": "stream",
     "text": [
      "Comparing /volume1/homes/eric/_Documents/_Records/_By Year/2020/Factual/Laptop Dump/code\n",
      "/volume1/homes/eric/_Documents/_Records/_By Year/2020/Factual/Laptop Dump/code sizes are not the same. size1=22180776083 size2=17420762172\n",
      "Dirs in 1 but not 2: {'tile-server', 'tile-builder', 'scalaPlayground', 'tabscanner', 'snakemake-tutorial', 'react-ajax-example', 'pyramid-rest', 'shapes', 'reactTicTacToe', 'scpd', 'zohaib1', 'playground', 'restful-services-in-pyramid', 'place-attachment-workbench', 'sqlalchemy_tutorial', 'yaml-mode', 'python-interview-solutions', 'todo', 'tictactoe', 'react-express', 'resources', 'predict-evaluators', 'tctest', 'smaker'}\n",
      "  Comparing /volume1/homes/eric/_Documents/_Records/_By Year/2020/Factual/Laptop Dump/code/k8s-specs\n",
      "  /volume1/homes/eric/_Documents/_Records/_By Year/2020/Factual/Laptop Dump/code/k8s-specs sizes are not the same. size1=932494 size2=998792\n",
      "    Comparing /volume1/homes/eric/_Documents/_Records/_By Year/2020/Factual/Laptop Dump/code/k8s-specs/network\n",
      "    /volume1/homes/eric/_Documents/_Records/_By Year/2020/Factual/Laptop Dump/code/k8s-specs/network sizes are not the same. size1=8820 size2=10774\n",
      "*** ERROR: not enough values to unpack (expected 2, got 1), host='192.168.2.2', path='/volume1/homes/eric/_Documents/_Records/_By Year/2020/Factual/Laptop Dump/code/k8s-specs/network', line='', files=[]\n"
     ]
    },
    {
     "ename": "ValueError",
     "evalue": "not enough values to unpack (expected 2, got 1)",
     "output_type": "error",
     "traceback": [
      "\u001b[31m---------------------------------------------------------------------------\u001b[39m",
      "\u001b[31mValueError\u001b[39m                                Traceback (most recent call last)",
      "\u001b[36mCell\u001b[39m\u001b[36m \u001b[39m\u001b[32mIn[134]\u001b[39m\u001b[32m, line 1\u001b[39m\n\u001b[32m----> \u001b[39m\u001b[32m1\u001b[39m \u001b[43mcompare\u001b[49m\u001b[43m(\u001b[49m\u001b[43mHOST1\u001b[49m\u001b[43m,\u001b[49m\u001b[43m \u001b[49m\u001b[43mHOST2\u001b[49m\u001b[43m,\u001b[49m\u001b[43m \u001b[49m\u001b[43mPATH1\u001b[49m\u001b[43m,\u001b[49m\u001b[43m \u001b[49m\u001b[43mUSER1\u001b[49m\u001b[43m,\u001b[49m\u001b[43m \u001b[49m\u001b[43mport\u001b[49m\u001b[43m=\u001b[49m\u001b[32;43m8932\u001b[39;49m\u001b[43m)\u001b[49m\n",
      "\u001b[36mCell\u001b[39m\u001b[36m \u001b[39m\u001b[32mIn[133]\u001b[39m\u001b[32m, line 66\u001b[39m, in \u001b[36mcompare\u001b[39m\u001b[34m(host1, host2, path, user, port, level)\u001b[39m\n\u001b[32m     64\u001b[39m     \u001b[38;5;28mprint\u001b[39m(\u001b[33mf\u001b[39m\u001b[33m'\u001b[39m\u001b[38;5;132;01m{\u001b[39;00m\u001b[33m\"\u001b[39m\u001b[33m \u001b[39m\u001b[33m\"\u001b[39m*level*\u001b[32m2\u001b[39m\u001b[38;5;132;01m}\u001b[39;00m\u001b[33mDirs in 2 but not 1: \u001b[39m\u001b[38;5;132;01m{\u001b[39;00mdiff\u001b[38;5;132;01m}\u001b[39;00m\u001b[33m'\u001b[39m)       \n\u001b[32m     65\u001b[39m \u001b[38;5;28;01mfor\u001b[39;00m subdir \u001b[38;5;129;01min\u001b[39;00m dirs1:\n\u001b[32m---> \u001b[39m\u001b[32m66\u001b[39m     \u001b[43mcompare\u001b[49m\u001b[43m(\u001b[49m\u001b[43mhost1\u001b[49m\u001b[43m,\u001b[49m\u001b[43m \u001b[49m\u001b[43mhost2\u001b[49m\u001b[43m,\u001b[49m\u001b[43m \u001b[49m\u001b[43msubdir\u001b[49m\u001b[43m,\u001b[49m\u001b[43m \u001b[49m\u001b[43muser\u001b[49m\u001b[43m,\u001b[49m\u001b[43m \u001b[49m\u001b[43mport\u001b[49m\u001b[43m,\u001b[49m\u001b[43m \u001b[49m\u001b[43mlevel\u001b[49m\u001b[43m+\u001b[49m\u001b[32;43m1\u001b[39;49m\u001b[43m)\u001b[49m\n",
      "\u001b[36mCell\u001b[39m\u001b[36m \u001b[39m\u001b[32mIn[133]\u001b[39m\u001b[32m, line 66\u001b[39m, in \u001b[36mcompare\u001b[39m\u001b[34m(host1, host2, path, user, port, level)\u001b[39m\n\u001b[32m     64\u001b[39m     \u001b[38;5;28mprint\u001b[39m(\u001b[33mf\u001b[39m\u001b[33m'\u001b[39m\u001b[38;5;132;01m{\u001b[39;00m\u001b[33m\"\u001b[39m\u001b[33m \u001b[39m\u001b[33m\"\u001b[39m*level*\u001b[32m2\u001b[39m\u001b[38;5;132;01m}\u001b[39;00m\u001b[33mDirs in 2 but not 1: \u001b[39m\u001b[38;5;132;01m{\u001b[39;00mdiff\u001b[38;5;132;01m}\u001b[39;00m\u001b[33m'\u001b[39m)       \n\u001b[32m     65\u001b[39m \u001b[38;5;28;01mfor\u001b[39;00m subdir \u001b[38;5;129;01min\u001b[39;00m dirs1:\n\u001b[32m---> \u001b[39m\u001b[32m66\u001b[39m     \u001b[43mcompare\u001b[49m\u001b[43m(\u001b[49m\u001b[43mhost1\u001b[49m\u001b[43m,\u001b[49m\u001b[43m \u001b[49m\u001b[43mhost2\u001b[49m\u001b[43m,\u001b[49m\u001b[43m \u001b[49m\u001b[43msubdir\u001b[49m\u001b[43m,\u001b[49m\u001b[43m \u001b[49m\u001b[43muser\u001b[49m\u001b[43m,\u001b[49m\u001b[43m \u001b[49m\u001b[43mport\u001b[49m\u001b[43m,\u001b[49m\u001b[43m \u001b[49m\u001b[43mlevel\u001b[49m\u001b[43m+\u001b[49m\u001b[32;43m1\u001b[39;49m\u001b[43m)\u001b[49m\n",
      "\u001b[36mCell\u001b[39m\u001b[36m \u001b[39m\u001b[32mIn[133]\u001b[39m\u001b[32m, line 45\u001b[39m, in \u001b[36mcompare\u001b[39m\u001b[34m(host1, host2, path, user, port, level)\u001b[39m\n\u001b[32m     43\u001b[39m     \u001b[38;5;28;01mreturn\u001b[39;00m\n\u001b[32m     44\u001b[39m \u001b[38;5;28mprint\u001b[39m(\u001b[33mf\u001b[39m\u001b[33m'\u001b[39m\u001b[38;5;132;01m{\u001b[39;00m\u001b[33m\"\u001b[39m\u001b[33m \u001b[39m\u001b[33m\"\u001b[39m*level*\u001b[32m2\u001b[39m\u001b[38;5;132;01m}\u001b[39;00m\u001b[38;5;132;01m{\u001b[39;00mpath\u001b[38;5;132;01m}\u001b[39;00m\u001b[33m sizes are not the same. \u001b[39m\u001b[38;5;132;01m{\u001b[39;00msize1\u001b[38;5;132;01m=}\u001b[39;00m\u001b[33m \u001b[39m\u001b[38;5;132;01m{\u001b[39;00msize2\u001b[38;5;132;01m=}\u001b[39;00m\u001b[33m'\u001b[39m)\n\u001b[32m---> \u001b[39m\u001b[32m45\u001b[39m files1 = \u001b[43mlist_files_with_sizes\u001b[49m\u001b[43m(\u001b[49m\u001b[43mhost1\u001b[49m\u001b[43m,\u001b[49m\u001b[43m \u001b[49m\u001b[43muser\u001b[49m\u001b[43m,\u001b[49m\u001b[43m \u001b[49m\u001b[43mpath\u001b[49m\u001b[43m,\u001b[49m\u001b[43m \u001b[49m\u001b[43mport\u001b[49m\u001b[43m)\u001b[49m\n\u001b[32m     46\u001b[39m files2 = list_files_with_sizes(host2, user, path, port)\n\u001b[32m     47\u001b[39m \u001b[38;5;66;03m# files1.add(('bad1', 42))\u001b[39;00m\n\u001b[32m     48\u001b[39m \u001b[38;5;66;03m# files2.add(('bad2', 43))\u001b[39;00m\n",
      "\u001b[36mCell\u001b[39m\u001b[36m \u001b[39m\u001b[32mIn[133]\u001b[39m\u001b[32m, line 16\u001b[39m, in \u001b[36mlist_files_with_sizes\u001b[39m\u001b[34m(host, user, path, port)\u001b[39m\n\u001b[32m     14\u001b[39m     \u001b[38;5;28;01mexcept\u001b[39;00m \u001b[38;5;167;01mValueError\u001b[39;00m \u001b[38;5;28;01mas\u001b[39;00m e:\n\u001b[32m     15\u001b[39m         \u001b[38;5;28mprint\u001b[39m(\u001b[33mf\u001b[39m\u001b[33m\"\u001b[39m\u001b[33m*** ERROR: \u001b[39m\u001b[38;5;132;01m{\u001b[39;00me\u001b[38;5;132;01m}\u001b[39;00m\u001b[33m, \u001b[39m\u001b[38;5;132;01m{\u001b[39;00mhost\u001b[38;5;132;01m=}\u001b[39;00m\u001b[33m, \u001b[39m\u001b[38;5;132;01m{\u001b[39;00mpath\u001b[38;5;132;01m=}\u001b[39;00m\u001b[33m, \u001b[39m\u001b[38;5;132;01m{\u001b[39;00mline\u001b[38;5;132;01m=}\u001b[39;00m\u001b[33m, \u001b[39m\u001b[38;5;132;01m{\u001b[39;00mfiles\u001b[38;5;132;01m=}\u001b[39;00m\u001b[33m\"\u001b[39m)\n\u001b[32m---> \u001b[39m\u001b[32m16\u001b[39m         \u001b[38;5;28;01mraise\u001b[39;00m e\n\u001b[32m     18\u001b[39m \u001b[38;5;28;01mreturn\u001b[39;00m \u001b[38;5;28mset\u001b[39m(files)\n",
      "\u001b[36mCell\u001b[39m\u001b[36m \u001b[39m\u001b[32mIn[133]\u001b[39m\u001b[32m, line 12\u001b[39m, in \u001b[36mlist_files_with_sizes\u001b[39m\u001b[34m(host, user, path, port)\u001b[39m\n\u001b[32m     10\u001b[39m \u001b[38;5;28;01mfor\u001b[39;00m line \u001b[38;5;129;01min\u001b[39;00m result.strip().split(\u001b[33m'\u001b[39m\u001b[38;5;130;01m\\n\u001b[39;00m\u001b[33m'\u001b[39m):\n\u001b[32m     11\u001b[39m     \u001b[38;5;28;01mtry\u001b[39;00m:\n\u001b[32m---> \u001b[39m\u001b[32m12\u001b[39m         filepath, size_str = line.split(\u001b[33m'\u001b[39m\u001b[33m|\u001b[39m\u001b[33m'\u001b[39m)\n\u001b[32m     13\u001b[39m         files.append((filepath, \u001b[38;5;28mint\u001b[39m(size_str)))\n\u001b[32m     14\u001b[39m     \u001b[38;5;28;01mexcept\u001b[39;00m \u001b[38;5;167;01mValueError\u001b[39;00m \u001b[38;5;28;01mas\u001b[39;00m e:\n",
      "\u001b[31mValueError\u001b[39m: not enough values to unpack (expected 2, got 1)"
     ]
    }
   ],
   "source": [
    "compare(HOST1, HOST2, PATH1, USER1, port=8932)"
   ]
  },
  {
   "cell_type": "code",
   "execution_count": null,
   "id": "cc8b9a71-9e6d-423d-bfb2-2cbbdee709eb",
   "metadata": {},
   "outputs": [],
   "source": []
  }
 ],
 "metadata": {
  "kernelspec": {
   "display_name": "Python 3 (ipykernel)",
   "language": "python",
   "name": "python3"
  },
  "language_info": {
   "codemirror_mode": {
    "name": "ipython",
    "version": 3
   },
   "file_extension": ".py",
   "mimetype": "text/x-python",
   "name": "python",
   "nbconvert_exporter": "python",
   "pygments_lexer": "ipython3",
   "version": "3.12.0"
  }
 },
 "nbformat": 4,
 "nbformat_minor": 5
}
