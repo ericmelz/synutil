{
 "cells": [
  {
   "cell_type": "code",
   "execution_count": 11,
   "id": "c2210d20-3513-4a5c-8bc0-3cbe0febaf57",
   "metadata": {},
   "outputs": [],
   "source": [
    "import subprocess\n",
    "from functools import lru_cache"
   ]
  },
  {
   "cell_type": "code",
   "execution_count": 24,
   "id": "deecb7aa-3ce8-4c85-9e37-50bc21f5006a",
   "metadata": {},
   "outputs": [],
   "source": [
    "@lru_cache(maxsize=1000000)\n",
    "def get_directory_size_ssh(host, user, path, port=22):\n",
    "    cmd = f'ssh -p {port} {user}@{host} \"du -sb {path} | cut -f1\"'\n",
    "    result = subprocess.check_output(cmd, shell=True)\n",
    "    return int(result.strip())"
   ]
  },
  {
   "cell_type": "code",
   "execution_count": 25,
   "id": "a27ebc6c-6634-4c5e-aa61-380f45c6650e",
   "metadata": {},
   "outputs": [],
   "source": [
    "PATH1='/volume1/homes/eric/_Documents/_Records/_By\\ Year/2020/Factual/Laptop\\ Dump/code'\n",
    "HOST1='192.168.2.2'\n",
    "PORT1=8932\n",
    "USER1='eric'\n",
    "\n",
    "PATH2=PATH1\n",
    "HOST2='192.168.2.6'\n",
    "PORT2=PORT1\n",
    "USER2=USER1"
   ]
  },
  {
   "cell_type": "code",
   "execution_count": 26,
   "id": "43f18ea8-4d87-4e8a-a551-9cea41c87846",
   "metadata": {},
   "outputs": [],
   "source": [
    "def print_size(size_byte):\n",
    "    print(f\"Total size: {size_bytes / (1024 ** 3):.2f} GB ({size_bytes:,} bytes)\")"
   ]
  },
  {
   "cell_type": "code",
   "execution_count": 27,
   "id": "6563ec2c-3a9c-41e7-9104-b5603def8f46",
   "metadata": {},
   "outputs": [
    {
     "name": "stdout",
     "output_type": "stream",
     "text": [
      "Total size: 20.66 GB (22,180,776,083 bytes)\n"
     ]
    }
   ],
   "source": [
    "size_bytes = get_directory_size_ssh(HOST1, USER1, PATH1, port=PORT1)\n",
    "print_size(size_bytes)"
   ]
  },
  {
   "cell_type": "code",
   "execution_count": 28,
   "id": "77e840b6-71f9-496e-81ae-1042aa1faadf",
   "metadata": {},
   "outputs": [
    {
     "name": "stdout",
     "output_type": "stream",
     "text": [
      "Total size: 16.22 GB (17,420,762,172 bytes)\n"
     ]
    }
   ],
   "source": [
    "size_bytes = get_directory_size_ssh(HOST2, USER2, PATH2, port=PORT2)\n",
    "print_size(size_bytes)"
   ]
  },
  {
   "cell_type": "markdown",
   "id": "c80c3dbb-d760-4249-a341-df9b762f0c78",
   "metadata": {},
   "source": [
    "If the directory sizes are different, it could be because\n",
    "* the smaller directory is missing files or directories the other has\n",
    "* the smaller directory has all the files and directories the other has, but one of the subdirs is different"
   ]
  },
  {
   "cell_type": "markdown",
   "id": "d44fa7f1-37e2-41ee-81a8-b3a19f5e190d",
   "metadata": {},
   "source": [
    "Strategy:\n",
    "If dirA and dirB are the same:\n",
    "* return \"the two directories are the same!\" (print that message and return None)\n",
    "\n",
    "If dirA and dirB are different,\n",
    "* list all files in dirA and dirB\n",
    "* compare file list + sizes in dirA and dirB, report differences\n",
    "* list all dirs in dirA and dirB\n",
    "  * If there are different dir names in dirA and dirB, report differences\n",
    "  * for dir names that match:\n",
    "    * recurse\n",
    "  "
   ]
  },
  {
   "cell_type": "code",
   "execution_count": 36,
   "id": "62c979a8-0bdb-4cdf-803e-6d68ef081269",
   "metadata": {},
   "outputs": [],
   "source": [
    "def list_files_with_sizes_ssh(host, user, path, port=22):\n",
    "    cmd = (\n",
    "        f'ssh -p {port} {user}@{host} '\n",
    "        f'\"find {path} -maxdepth 1 -type f -printf \\\\\"%p|%s\\\\\\\\n\\\\\"\"'\n",
    "    )\n",
    "\n",
    "    result = subprocess.check_output(cmd, shell=True, text=True)\n",
    "    files = []\n",
    "    for line in result.strip().split('\\n'):\n",
    "        try:\n",
    "            filepath, size_str = line.split('|')\n",
    "            files.append((filepath, int(size_str)))\n",
    "        except ValueError as e:\n",
    "            print(f\"*** ERROR: {e}\")\n",
    "            contine\n",
    "\n",
    "    return set(files)"
   ]
  },
  {
   "cell_type": "code",
   "execution_count": 37,
   "id": "29446d2c-9392-42ae-bd58-1c9d52db3dc7",
   "metadata": {},
   "outputs": [],
   "source": [
    "files1 = list_files_with_sizes_ssh(HOST1, USER1, PATH1, PORT1)"
   ]
  },
  {
   "cell_type": "code",
   "execution_count": 38,
   "id": "3475a32a-68b2-47ba-98c7-727284b11ce8",
   "metadata": {},
   "outputs": [],
   "source": [
    "files2 = list_files_with_sizes_ssh(HOST2, USER2, PATH2, PORT2)"
   ]
  },
  {
   "cell_type": "code",
   "execution_count": 39,
   "id": "977a826b-6302-4dcf-aa2f-926a9b82472c",
   "metadata": {},
   "outputs": [
    {
     "data": {
      "text/plain": [
       "{('/volume1/homes/eric/_Documents/_Records/_By Year/2020/Factual/Laptop Dump/code/#exits.py#',\n",
       "  3),\n",
       " ('/volume1/homes/eric/_Documents/_Records/_By Year/2020/Factual/Laptop Dump/code/.DS_Store',\n",
       "  16388),\n",
       " ('/volume1/homes/eric/_Documents/_Records/_By Year/2020/Factual/Laptop Dump/code/LIAsourcecode.zip',\n",
       "  64107235),\n",
       " ('/volume1/homes/eric/_Documents/_Records/_By Year/2020/Factual/Laptop Dump/code/audiene.tar',\n",
       "  205117952),\n",
       " ('/volume1/homes/eric/_Documents/_Records/_By Year/2020/Factual/Laptop Dump/code/csschallenge.zip',\n",
       "  8343946),\n",
       " ('/volume1/homes/eric/_Documents/_Records/_By Year/2020/Factual/Laptop Dump/code/insights-ui.tar',\n",
       "  124763648)}"
      ]
     },
     "execution_count": 39,
     "metadata": {},
     "output_type": "execute_result"
    }
   ],
   "source": [
    "files2"
   ]
  },
  {
   "cell_type": "code",
   "execution_count": 40,
   "id": "880e0f5c-cf60-4289-b719-a1a976d3dae0",
   "metadata": {},
   "outputs": [
    {
     "data": {
      "text/plain": [
       "{('/volume1/homes/eric/_Documents/_Records/_By Year/2020/Factual/Laptop Dump/code/#exits.py#',\n",
       "  3),\n",
       " ('/volume1/homes/eric/_Documents/_Records/_By Year/2020/Factual/Laptop Dump/code/.DS_Store',\n",
       "  16388),\n",
       " ('/volume1/homes/eric/_Documents/_Records/_By Year/2020/Factual/Laptop Dump/code/LIAsourcecode.zip',\n",
       "  64107235),\n",
       " ('/volume1/homes/eric/_Documents/_Records/_By Year/2020/Factual/Laptop Dump/code/audiene.tar',\n",
       "  205117952),\n",
       " ('/volume1/homes/eric/_Documents/_Records/_By Year/2020/Factual/Laptop Dump/code/csschallenge.zip',\n",
       "  8343946),\n",
       " ('/volume1/homes/eric/_Documents/_Records/_By Year/2020/Factual/Laptop Dump/code/insights-ui.tar',\n",
       "  124763648)}"
      ]
     },
     "execution_count": 40,
     "metadata": {},
     "output_type": "execute_result"
    }
   ],
   "source": [
    "files1"
   ]
  },
  {
   "cell_type": "code",
   "execution_count": 41,
   "id": "c6ffa391-f223-4e72-b6e8-26b964d8e48e",
   "metadata": {},
   "outputs": [
    {
     "data": {
      "text/plain": [
       "set()"
      ]
     },
     "execution_count": 41,
     "metadata": {},
     "output_type": "execute_result"
    }
   ],
   "source": [
    "files1 - files2"
   ]
  },
  {
   "cell_type": "code",
   "execution_count": 42,
   "id": "36c82514-09c2-444b-834d-d1ee3c926b2b",
   "metadata": {},
   "outputs": [
    {
     "data": {
      "text/plain": [
       "set()"
      ]
     },
     "execution_count": 42,
     "metadata": {},
     "output_type": "execute_result"
    }
   ],
   "source": [
    "files2 - files1"
   ]
  },
  {
   "cell_type": "code",
   "execution_count": 43,
   "id": "898c1aa9-d1a5-46b3-8c6a-df7c33cc7177",
   "metadata": {},
   "outputs": [],
   "source": [
    "files1.add(('bad', 42))"
   ]
  },
  {
   "cell_type": "code",
   "execution_count": 44,
   "id": "f9adc6b4-6720-418f-8f9c-5e38fd1444d6",
   "metadata": {},
   "outputs": [
    {
     "data": {
      "text/plain": [
       "{('bad', 42)}"
      ]
     },
     "execution_count": 44,
     "metadata": {},
     "output_type": "execute_result"
    }
   ],
   "source": [
    "files1 - files2"
   ]
  },
  {
   "cell_type": "code",
   "execution_count": 45,
   "id": "5d4b79b3-16d4-4046-a4ec-0ca16e762033",
   "metadata": {},
   "outputs": [
    {
     "name": "stdout",
     "output_type": "stream",
     "text": [
      "files in 1 but not 2: {('bad', 42)}\n"
     ]
    }
   ],
   "source": [
    "if files1 - files2:\n",
    "    print(f\"files in 1 but not 2: {files1 - files2}\")"
   ]
  },
  {
   "cell_type": "code",
   "execution_count": null,
   "id": "2581797d-d0a7-4e0e-881d-27ca2c63bb09",
   "metadata": {},
   "outputs": [],
   "source": []
  }
 ],
 "metadata": {
  "kernelspec": {
   "display_name": "Python 3 (ipykernel)",
   "language": "python",
   "name": "python3"
  },
  "language_info": {
   "codemirror_mode": {
    "name": "ipython",
    "version": 3
   },
   "file_extension": ".py",
   "mimetype": "text/x-python",
   "name": "python",
   "nbconvert_exporter": "python",
   "pygments_lexer": "ipython3",
   "version": "3.12.0"
  }
 },
 "nbformat": 4,
 "nbformat_minor": 5
}
