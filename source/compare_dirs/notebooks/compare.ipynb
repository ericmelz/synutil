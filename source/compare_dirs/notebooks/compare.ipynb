{
 "cells": [
  {
   "cell_type": "code",
   "execution_count": 121,
   "id": "c2210d20-3513-4a5c-8bc0-3cbe0febaf57",
   "metadata": {},
   "outputs": [],
   "source": [
    "import subprocess\n",
    "import shlex\n",
    "from functools import lru_cache\n",
    "\n",
    "import os"
   ]
  },
  {
   "cell_type": "code",
   "execution_count": 113,
   "id": "deecb7aa-3ce8-4c85-9e37-50bc21f5006a",
   "metadata": {},
   "outputs": [],
   "source": [
    "@lru_cache(maxsize=1000000)\n",
    "def get_directory_size(host, user, path, port=22):\n",
    "    escaped_path = shlex.quote(path)\n",
    "    cmd = f'ssh -p {port} {user}@{host} \"du -sb {escaped_path} | cut -f1\"'\n",
    "    result = subprocess.check_output(cmd, shell=True)\n",
    "    return int(result.strip())"
   ]
  },
  {
   "cell_type": "code",
   "execution_count": 146,
   "id": "a27ebc6c-6634-4c5e-aa61-380f45c6650e",
   "metadata": {},
   "outputs": [],
   "source": [
    "# PATH1='/volume1/homes/eric/_Documents/_Records/_By Year/2020/Factual/Laptop Dump/code'\n",
    "PATH1='/volume1/homes/eric/_Documents/_Records/_By Year/_2025'\n",
    "HOST1='192.168.2.2'\n",
    "PORT1=8932\n",
    "USER1='eric'\n",
    "\n",
    "PATH2=PATH1\n",
    "HOST2='192.168.2.6'\n",
    "PORT2=PORT1\n",
    "USER2=USER1"
   ]
  },
  {
   "cell_type": "code",
   "execution_count": 115,
   "id": "43f18ea8-4d87-4e8a-a551-9cea41c87846",
   "metadata": {},
   "outputs": [],
   "source": [
    "def print_size(size_byte):\n",
    "    print(f\"Total size: {size_bytes / (1024 ** 3):.2f} GB ({size_bytes:,} bytes)\")"
   ]
  },
  {
   "cell_type": "code",
   "execution_count": 116,
   "id": "6563ec2c-3a9c-41e7-9104-b5603def8f46",
   "metadata": {},
   "outputs": [
    {
     "name": "stdout",
     "output_type": "stream",
     "text": [
      "Total size: 20.66 GB (22,180,776,083 bytes)\n"
     ]
    }
   ],
   "source": [
    "size_bytes = get_directory_size(HOST1, USER1, PATH1, port=PORT1)\n",
    "print_size(size_bytes)"
   ]
  },
  {
   "cell_type": "code",
   "execution_count": 117,
   "id": "77e840b6-71f9-496e-81ae-1042aa1faadf",
   "metadata": {},
   "outputs": [
    {
     "name": "stdout",
     "output_type": "stream",
     "text": [
      "Total size: 16.22 GB (17,420,762,172 bytes)\n"
     ]
    }
   ],
   "source": [
    "size_bytes = get_directory_size(HOST2, USER2, PATH2, port=PORT2)\n",
    "print_size(size_bytes)"
   ]
  },
  {
   "cell_type": "markdown",
   "id": "c80c3dbb-d760-4249-a341-df9b762f0c78",
   "metadata": {},
   "source": [
    "If the directory sizes are different, it could be because\n",
    "* the smaller directory is missing files or directories the other has\n",
    "* the smaller directory has all the files and directories the other has, but one of the subdirs is different"
   ]
  },
  {
   "cell_type": "markdown",
   "id": "d44fa7f1-37e2-41ee-81a8-b3a19f5e190d",
   "metadata": {},
   "source": [
    "Strategy:\n",
    "If dirA and dirB are the same:\n",
    "* return \"the two directories are the same!\" (print that message and return None)\n",
    "\n",
    "If dirA and dirB are different,\n",
    "* list all files in dirA and dirB\n",
    "* compare file list + sizes in dirA and dirB, report differences\n",
    "* list all dirs in dirA and dirB\n",
    "  * If there are different dir names in dirA and dirB, report differences\n",
    "  * for dir names that match:\n",
    "    * recurse\n",
    "  "
   ]
  },
  {
   "cell_type": "code",
   "execution_count": 143,
   "id": "20773d53-d287-4e1d-a44b-6b7604ea1727",
   "metadata": {},
   "outputs": [],
   "source": [
    "def list_files_with_sizes(host, user, path, port=22):\n",
    "    escaped_path = shlex.quote(path)\n",
    "    cmd = (\n",
    "        f'ssh -p {port} {user}@{host} '\n",
    "        f'\"find {escaped_path} -maxdepth 1 -type f -printf \\\\\"%p|%s\\\\\\\\n\\\\\"\"'\n",
    "    )\n",
    "\n",
    "    result = subprocess.check_output(cmd, shell=True, text=True)\n",
    "    files = []\n",
    "    for line in result.strip().split('\\n'):\n",
    "        if not line:\n",
    "            continue # skip blanks\n",
    "        try:\n",
    "            filepath, size_str = line.split('|')\n",
    "            files.append((filepath, int(size_str)))\n",
    "        except ValueError as e:\n",
    "            print(f\"*** ERROR: {e}, {host=}, {path=}, {line=}, {files=}\")\n",
    "            raise e\n",
    "\n",
    "    return set(files)\n",
    "\n",
    "def list_dirs(host, user, path, port=22):\n",
    "    escaped_path = shlex.quote(path)\n",
    "    cmd = (\n",
    "        f'ssh -p {port} {user}@{host} '\n",
    "        f'\"find {escaped_path} -maxdepth 1 -type d ! -path {escaped_path} -printf \\\\\"%p\\\\\\\\n\\\\\"\"'\n",
    "    )\n",
    "\n",
    "    result = subprocess.check_output(cmd, shell=True, text=True)\n",
    "    dirs = []\n",
    "    for line in result.strip().split('\\n'):\n",
    "        if not line:\n",
    "            continue # skip blanks\n",
    "        try:\n",
    "            dirs.append(line)\n",
    "        except ValueError as e:\n",
    "            print(f\"*** ERROR: {e}, line={line}\")\n",
    "            raise e\n",
    "\n",
    "    return set(dirs)\n",
    "\n",
    "def compare(host1, host2, path, user, port=22, level=0):\n",
    "    print(f'{\" \"*level*2}Comparing {path}')\n",
    "    size1 = get_directory_size(host1, user, path, port=port)\n",
    "    size2 = get_directory_size(host2, user, path, port=port)\n",
    "    if size1 == size2:\n",
    "        return\n",
    "    print(f'{\" \"*level*2}{path} sizes are not the same. {size1=} {size2=}')\n",
    "    files1 = list_files_with_sizes(host1, user, path, port)\n",
    "    files2 = list_files_with_sizes(host2, user, path, port)\n",
    "    # files1.add(('bad1', 42))\n",
    "    # files2.add(('bad2', 43))\n",
    "    if files1 - files2:\n",
    "        diff = {os.path.relpath(f[0], path) for f in files1 - files2}\n",
    "        print(f'{\" \"*level*2}Files in 1 but not 2: {diff}')\n",
    "    if files2 - files1:\n",
    "        diff = {os.path.relpath(f[0], path) for f in files2 - files1}\n",
    "        print(f'{\" \"*level*2}Files in 2 but no 1: {diff}')        \n",
    "    dirs1 = list_dirs(host1, user, path, port)\n",
    "    dirs2 = list_dirs(host2, user, path, port)\n",
    "    # dirs1.add('baddir1')\n",
    "    # dirs2.add('baddir2')\n",
    "    if dirs1 - dirs2:\n",
    "        diff = {os.path.relpath(d, path) for d in dirs1 - dirs2}\n",
    "        print(f'{\" \"*level*2}Dirs in 1 but not 2: {diff}')\n",
    "    if dirs2 - dirs1:\n",
    "        diff = {os.path.relpath(d, path) for d in dirs2 - dirs1}\n",
    "        print(f'{\" \"*level*2}Dirs in 2 but not 1: {diff}')    \n",
    "    # print(f'{\" \"*level*2}{dirs1=}')\n",
    "    for subdir in dirs1 & dirs2:\n",
    "        compare(host1, host2, subdir, user, port, level+1)"
   ]
  },
  {
   "cell_type": "code",
   "execution_count": 147,
   "id": "083e7d50-39d1-4865-ac3b-e7e8435c35c6",
   "metadata": {},
   "outputs": [
    {
     "name": "stdout",
     "output_type": "stream",
     "text": [
      "Comparing /volume1/homes/eric/_Documents/_Records/_By Year/_2025\n",
      "/volume1/homes/eric/_Documents/_Records/_By Year/_2025 sizes are not the same. size1=11110963567 size2=11111031483\n",
      "  Comparing /volume1/homes/eric/_Documents/_Records/_By Year/_2025/Library\n",
      "  /volume1/homes/eric/_Documents/_Records/_By Year/_2025/Library sizes are not the same. size1=1889920 size2=1891654\n",
      "    Comparing /volume1/homes/eric/_Documents/_Records/_By Year/_2025/Library/@eaDir\n",
      "    /volume1/homes/eric/_Documents/_Records/_By Year/_2025/Library/@eaDir sizes are not the same. size1=2887 size2=3983\n",
      "  Comparing /volume1/homes/eric/_Documents/_Records/_By Year/_2025/@eaDir\n",
      "  /volume1/homes/eric/_Documents/_Records/_By Year/_2025/@eaDir sizes are not the same. size1=1752 size2=4098\n",
      "  Comparing /volume1/homes/eric/_Documents/_Records/_By Year/_2025/Reeves\n",
      "  /volume1/homes/eric/_Documents/_Records/_By Year/_2025/Reeves sizes are not the same. size1=5559618 size2=5564566\n",
      "    Comparing /volume1/homes/eric/_Documents/_Records/_By Year/_2025/Reeves/Utilities\n",
      "    /volume1/homes/eric/_Documents/_Records/_By Year/_2025/Reeves/Utilities sizes are not the same. size1=1535275 size2=1536593\n",
      "      Comparing /volume1/homes/eric/_Documents/_Records/_By Year/_2025/Reeves/Utilities/Water\n",
      "      /volume1/homes/eric/_Documents/_Records/_By Year/_2025/Reeves/Utilities/Water sizes are not the same. size1=1187768 size2=1187914\n",
      "      Comparing /volume1/homes/eric/_Documents/_Records/_By Year/_2025/Reeves/Utilities/Cable\n",
      "      /volume1/homes/eric/_Documents/_Records/_By Year/_2025/Reeves/Utilities/Cable sizes are not the same. size1=347487 size2=348343\n",
      "        Comparing /volume1/homes/eric/_Documents/_Records/_By Year/_2025/Reeves/Utilities/Cable/Letters\n",
      "        /volume1/homes/eric/_Documents/_Records/_By Year/_2025/Reeves/Utilities/Cable/Letters sizes are not the same. size1=347455 size2=348007\n",
      "        Comparing /volume1/homes/eric/_Documents/_Records/_By Year/_2025/Reeves/Utilities/Cable/Statement\n",
      "    Comparing /volume1/homes/eric/_Documents/_Records/_By Year/_2025/Reeves/@eaDir\n",
      "    /volume1/homes/eric/_Documents/_Records/_By Year/_2025/Reeves/@eaDir sizes are not the same. size1=500 size2=1160\n",
      "    Comparing /volume1/homes/eric/_Documents/_Records/_By Year/_2025/Reeves/Comps\n",
      "    /volume1/homes/eric/_Documents/_Records/_By Year/_2025/Reeves/Comps sizes are not the same. size1=511483 size2=511961\n",
      "      Comparing /volume1/homes/eric/_Documents/_Records/_By Year/_2025/Reeves/Comps/@eaDir\n",
      "      /volume1/homes/eric/_Documents/_Records/_By Year/_2025/Reeves/Comps/@eaDir sizes are not the same. size1=162 size2=330\n",
      "    Comparing /volume1/homes/eric/_Documents/_Records/_By Year/_2025/Reeves/Maintenance\n",
      "    /volume1/homes/eric/_Documents/_Records/_By Year/_2025/Reeves/Maintenance sizes are not the same. size1=3506132 size2=3507864\n",
      "      Comparing /volume1/homes/eric/_Documents/_Records/_By Year/_2025/Reeves/Maintenance/Roof\n",
      "      /volume1/homes/eric/_Documents/_Records/_By Year/_2025/Reeves/Maintenance/Roof sizes are not the same. size1=3444467 size2=3444937\n",
      "        Comparing /volume1/homes/eric/_Documents/_Records/_By Year/_2025/Reeves/Maintenance/Roof/@eaDir\n",
      "        /volume1/homes/eric/_Documents/_Records/_By Year/_2025/Reeves/Maintenance/Roof/@eaDir sizes are not the same. size1=166 size2=330\n",
      "      Comparing /volume1/homes/eric/_Documents/_Records/_By Year/_2025/Reeves/Maintenance/@eaDir\n",
      "      /volume1/homes/eric/_Documents/_Records/_By Year/_2025/Reeves/Maintenance/@eaDir sizes are not the same. size1=242 size2=580\n",
      "      Comparing /volume1/homes/eric/_Documents/_Records/_By Year/_2025/Reeves/Maintenance/Handyman\n",
      "      /volume1/homes/eric/_Documents/_Records/_By Year/_2025/Reeves/Maintenance/Handyman sizes are not the same. size1=55221 size2=55527\n",
      "        Comparing /volume1/homes/eric/_Documents/_Records/_By Year/_2025/Reeves/Maintenance/Handyman/Peter\n",
      "        /volume1/homes/eric/_Documents/_Records/_By Year/_2025/Reeves/Maintenance/Handyman/Peter sizes are not the same. size1=55211 size2=55359\n"
     ]
    },
    {
     "ename": "KeyboardInterrupt",
     "evalue": "",
     "output_type": "error",
     "traceback": [
      "\u001b[31m---------------------------------------------------------------------------\u001b[39m",
      "\u001b[31mKeyboardInterrupt\u001b[39m                         Traceback (most recent call last)",
      "\u001b[36mCell\u001b[39m\u001b[36m \u001b[39m\u001b[32mIn[147]\u001b[39m\u001b[32m, line 1\u001b[39m\n\u001b[32m----> \u001b[39m\u001b[32m1\u001b[39m \u001b[43mcompare\u001b[49m\u001b[43m(\u001b[49m\u001b[43mHOST1\u001b[49m\u001b[43m,\u001b[49m\u001b[43m \u001b[49m\u001b[43mHOST2\u001b[49m\u001b[43m,\u001b[49m\u001b[43m \u001b[49m\u001b[43mPATH1\u001b[49m\u001b[43m,\u001b[49m\u001b[43m \u001b[49m\u001b[43mUSER1\u001b[49m\u001b[43m,\u001b[49m\u001b[43m \u001b[49m\u001b[43mport\u001b[49m\u001b[43m=\u001b[49m\u001b[32;43m8932\u001b[39;49m\u001b[43m)\u001b[49m\n",
      "\u001b[36mCell\u001b[39m\u001b[36m \u001b[39m\u001b[32mIn[143]\u001b[39m\u001b[32m, line 71\u001b[39m, in \u001b[36mcompare\u001b[39m\u001b[34m(host1, host2, path, user, port, level)\u001b[39m\n\u001b[32m     69\u001b[39m \u001b[38;5;66;03m# print(f'{\" \"*level*2}{dirs1=}')\u001b[39;00m\n\u001b[32m     70\u001b[39m \u001b[38;5;28;01mfor\u001b[39;00m subdir \u001b[38;5;129;01min\u001b[39;00m dirs1 & dirs2:\n\u001b[32m---> \u001b[39m\u001b[32m71\u001b[39m     \u001b[43mcompare\u001b[49m\u001b[43m(\u001b[49m\u001b[43mhost1\u001b[49m\u001b[43m,\u001b[49m\u001b[43m \u001b[49m\u001b[43mhost2\u001b[49m\u001b[43m,\u001b[49m\u001b[43m \u001b[49m\u001b[43msubdir\u001b[49m\u001b[43m,\u001b[49m\u001b[43m \u001b[49m\u001b[43muser\u001b[49m\u001b[43m,\u001b[49m\u001b[43m \u001b[49m\u001b[43mport\u001b[49m\u001b[43m,\u001b[49m\u001b[43m \u001b[49m\u001b[43mlevel\u001b[49m\u001b[43m+\u001b[49m\u001b[32;43m1\u001b[39;49m\u001b[43m)\u001b[49m\n",
      "\u001b[36mCell\u001b[39m\u001b[36m \u001b[39m\u001b[32mIn[143]\u001b[39m\u001b[32m, line 71\u001b[39m, in \u001b[36mcompare\u001b[39m\u001b[34m(host1, host2, path, user, port, level)\u001b[39m\n\u001b[32m     69\u001b[39m \u001b[38;5;66;03m# print(f'{\" \"*level*2}{dirs1=}')\u001b[39;00m\n\u001b[32m     70\u001b[39m \u001b[38;5;28;01mfor\u001b[39;00m subdir \u001b[38;5;129;01min\u001b[39;00m dirs1 & dirs2:\n\u001b[32m---> \u001b[39m\u001b[32m71\u001b[39m     \u001b[43mcompare\u001b[49m\u001b[43m(\u001b[49m\u001b[43mhost1\u001b[49m\u001b[43m,\u001b[49m\u001b[43m \u001b[49m\u001b[43mhost2\u001b[49m\u001b[43m,\u001b[49m\u001b[43m \u001b[49m\u001b[43msubdir\u001b[49m\u001b[43m,\u001b[49m\u001b[43m \u001b[49m\u001b[43muser\u001b[49m\u001b[43m,\u001b[49m\u001b[43m \u001b[49m\u001b[43mport\u001b[49m\u001b[43m,\u001b[49m\u001b[43m \u001b[49m\u001b[43mlevel\u001b[49m\u001b[43m+\u001b[49m\u001b[32;43m1\u001b[39;49m\u001b[43m)\u001b[49m\n",
      "    \u001b[31m[... skipping similar frames: compare at line 71 (1 times)]\u001b[39m\n",
      "\u001b[36mCell\u001b[39m\u001b[36m \u001b[39m\u001b[32mIn[143]\u001b[39m\u001b[32m, line 71\u001b[39m, in \u001b[36mcompare\u001b[39m\u001b[34m(host1, host2, path, user, port, level)\u001b[39m\n\u001b[32m     69\u001b[39m \u001b[38;5;66;03m# print(f'{\" \"*level*2}{dirs1=}')\u001b[39;00m\n\u001b[32m     70\u001b[39m \u001b[38;5;28;01mfor\u001b[39;00m subdir \u001b[38;5;129;01min\u001b[39;00m dirs1 & dirs2:\n\u001b[32m---> \u001b[39m\u001b[32m71\u001b[39m     \u001b[43mcompare\u001b[49m\u001b[43m(\u001b[49m\u001b[43mhost1\u001b[49m\u001b[43m,\u001b[49m\u001b[43m \u001b[49m\u001b[43mhost2\u001b[49m\u001b[43m,\u001b[49m\u001b[43m \u001b[49m\u001b[43msubdir\u001b[49m\u001b[43m,\u001b[49m\u001b[43m \u001b[49m\u001b[43muser\u001b[49m\u001b[43m,\u001b[49m\u001b[43m \u001b[49m\u001b[43mport\u001b[49m\u001b[43m,\u001b[49m\u001b[43m \u001b[49m\u001b[43mlevel\u001b[49m\u001b[43m+\u001b[49m\u001b[32;43m1\u001b[39;49m\u001b[43m)\u001b[49m\n",
      "\u001b[36mCell\u001b[39m\u001b[36m \u001b[39m\u001b[32mIn[143]\u001b[39m\u001b[32m, line 59\u001b[39m, in \u001b[36mcompare\u001b[39m\u001b[34m(host1, host2, path, user, port, level)\u001b[39m\n\u001b[32m     57\u001b[39m     diff = {os.path.relpath(f[\u001b[32m0\u001b[39m], path) \u001b[38;5;28;01mfor\u001b[39;00m f \u001b[38;5;129;01min\u001b[39;00m files2 - files1}\n\u001b[32m     58\u001b[39m     \u001b[38;5;28mprint\u001b[39m(\u001b[33mf\u001b[39m\u001b[33m'\u001b[39m\u001b[38;5;132;01m{\u001b[39;00m\u001b[33m\"\u001b[39m\u001b[33m \u001b[39m\u001b[33m\"\u001b[39m*level*\u001b[32m2\u001b[39m\u001b[38;5;132;01m}\u001b[39;00m\u001b[33mFiles in 2 but no 1: \u001b[39m\u001b[38;5;132;01m{\u001b[39;00mdiff\u001b[38;5;132;01m}\u001b[39;00m\u001b[33m'\u001b[39m)        \n\u001b[32m---> \u001b[39m\u001b[32m59\u001b[39m dirs1 = \u001b[43mlist_dirs\u001b[49m\u001b[43m(\u001b[49m\u001b[43mhost1\u001b[49m\u001b[43m,\u001b[49m\u001b[43m \u001b[49m\u001b[43muser\u001b[49m\u001b[43m,\u001b[49m\u001b[43m \u001b[49m\u001b[43mpath\u001b[49m\u001b[43m,\u001b[49m\u001b[43m \u001b[49m\u001b[43mport\u001b[49m\u001b[43m)\u001b[49m\n\u001b[32m     60\u001b[39m dirs2 = list_dirs(host2, user, path, port)\n\u001b[32m     61\u001b[39m \u001b[38;5;66;03m# dirs1.add('baddir1')\u001b[39;00m\n\u001b[32m     62\u001b[39m \u001b[38;5;66;03m# dirs2.add('baddir2')\u001b[39;00m\n",
      "\u001b[36mCell\u001b[39m\u001b[36m \u001b[39m\u001b[32mIn[143]\u001b[39m\u001b[32m, line 29\u001b[39m, in \u001b[36mlist_dirs\u001b[39m\u001b[34m(host, user, path, port)\u001b[39m\n\u001b[32m     23\u001b[39m escaped_path = shlex.quote(path)\n\u001b[32m     24\u001b[39m cmd = (\n\u001b[32m     25\u001b[39m     \u001b[33mf\u001b[39m\u001b[33m'\u001b[39m\u001b[33mssh -p \u001b[39m\u001b[38;5;132;01m{\u001b[39;00mport\u001b[38;5;132;01m}\u001b[39;00m\u001b[33m \u001b[39m\u001b[38;5;132;01m{\u001b[39;00muser\u001b[38;5;132;01m}\u001b[39;00m\u001b[33m@\u001b[39m\u001b[38;5;132;01m{\u001b[39;00mhost\u001b[38;5;132;01m}\u001b[39;00m\u001b[33m \u001b[39m\u001b[33m'\u001b[39m\n\u001b[32m     26\u001b[39m     \u001b[33mf\u001b[39m\u001b[33m'\u001b[39m\u001b[33m\"\u001b[39m\u001b[33mfind \u001b[39m\u001b[38;5;132;01m{\u001b[39;00mescaped_path\u001b[38;5;132;01m}\u001b[39;00m\u001b[33m -maxdepth 1 -type d ! -path \u001b[39m\u001b[38;5;132;01m{\u001b[39;00mescaped_path\u001b[38;5;132;01m}\u001b[39;00m\u001b[33m -printf \u001b[39m\u001b[38;5;130;01m\\\\\u001b[39;00m\u001b[33m\"\u001b[39m\u001b[33m%p\u001b[39m\u001b[38;5;130;01m\\\\\u001b[39;00m\u001b[38;5;130;01m\\\\\u001b[39;00m\u001b[33mn\u001b[39m\u001b[38;5;130;01m\\\\\u001b[39;00m\u001b[33m\"\u001b[39m\u001b[33m\"\u001b[39m\u001b[33m'\u001b[39m\n\u001b[32m     27\u001b[39m )\n\u001b[32m---> \u001b[39m\u001b[32m29\u001b[39m result = \u001b[43msubprocess\u001b[49m\u001b[43m.\u001b[49m\u001b[43mcheck_output\u001b[49m\u001b[43m(\u001b[49m\u001b[43mcmd\u001b[49m\u001b[43m,\u001b[49m\u001b[43m \u001b[49m\u001b[43mshell\u001b[49m\u001b[43m=\u001b[49m\u001b[38;5;28;43;01mTrue\u001b[39;49;00m\u001b[43m,\u001b[49m\u001b[43m \u001b[49m\u001b[43mtext\u001b[49m\u001b[43m=\u001b[49m\u001b[38;5;28;43;01mTrue\u001b[39;49;00m\u001b[43m)\u001b[49m\n\u001b[32m     30\u001b[39m dirs = []\n\u001b[32m     31\u001b[39m \u001b[38;5;28;01mfor\u001b[39;00m line \u001b[38;5;129;01min\u001b[39;00m result.strip().split(\u001b[33m'\u001b[39m\u001b[38;5;130;01m\\n\u001b[39;00m\u001b[33m'\u001b[39m):\n",
      "\u001b[36mFile \u001b[39m\u001b[32m~/.pyenv/versions/3.12.0/lib/python3.12/subprocess.py:466\u001b[39m, in \u001b[36mcheck_output\u001b[39m\u001b[34m(timeout, *popenargs, **kwargs)\u001b[39m\n\u001b[32m    463\u001b[39m         empty = \u001b[33mb\u001b[39m\u001b[33m'\u001b[39m\u001b[33m'\u001b[39m\n\u001b[32m    464\u001b[39m     kwargs[\u001b[33m'\u001b[39m\u001b[33minput\u001b[39m\u001b[33m'\u001b[39m] = empty\n\u001b[32m--> \u001b[39m\u001b[32m466\u001b[39m \u001b[38;5;28;01mreturn\u001b[39;00m \u001b[43mrun\u001b[49m\u001b[43m(\u001b[49m\u001b[43m*\u001b[49m\u001b[43mpopenargs\u001b[49m\u001b[43m,\u001b[49m\u001b[43m \u001b[49m\u001b[43mstdout\u001b[49m\u001b[43m=\u001b[49m\u001b[43mPIPE\u001b[49m\u001b[43m,\u001b[49m\u001b[43m \u001b[49m\u001b[43mtimeout\u001b[49m\u001b[43m=\u001b[49m\u001b[43mtimeout\u001b[49m\u001b[43m,\u001b[49m\u001b[43m \u001b[49m\u001b[43mcheck\u001b[49m\u001b[43m=\u001b[49m\u001b[38;5;28;43;01mTrue\u001b[39;49;00m\u001b[43m,\u001b[49m\n\u001b[32m    467\u001b[39m \u001b[43m           \u001b[49m\u001b[43m*\u001b[49m\u001b[43m*\u001b[49m\u001b[43mkwargs\u001b[49m\u001b[43m)\u001b[49m.stdout\n",
      "\u001b[36mFile \u001b[39m\u001b[32m~/.pyenv/versions/3.12.0/lib/python3.12/subprocess.py:550\u001b[39m, in \u001b[36mrun\u001b[39m\u001b[34m(input, capture_output, timeout, check, *popenargs, **kwargs)\u001b[39m\n\u001b[32m    548\u001b[39m \u001b[38;5;28;01mwith\u001b[39;00m Popen(*popenargs, **kwargs) \u001b[38;5;28;01mas\u001b[39;00m process:\n\u001b[32m    549\u001b[39m     \u001b[38;5;28;01mtry\u001b[39;00m:\n\u001b[32m--> \u001b[39m\u001b[32m550\u001b[39m         stdout, stderr = \u001b[43mprocess\u001b[49m\u001b[43m.\u001b[49m\u001b[43mcommunicate\u001b[49m\u001b[43m(\u001b[49m\u001b[38;5;28;43minput\u001b[39;49m\u001b[43m,\u001b[49m\u001b[43m \u001b[49m\u001b[43mtimeout\u001b[49m\u001b[43m=\u001b[49m\u001b[43mtimeout\u001b[49m\u001b[43m)\u001b[49m\n\u001b[32m    551\u001b[39m     \u001b[38;5;28;01mexcept\u001b[39;00m TimeoutExpired \u001b[38;5;28;01mas\u001b[39;00m exc:\n\u001b[32m    552\u001b[39m         process.kill()\n",
      "\u001b[36mFile \u001b[39m\u001b[32m~/.pyenv/versions/3.12.0/lib/python3.12/subprocess.py:1196\u001b[39m, in \u001b[36mPopen.communicate\u001b[39m\u001b[34m(self, input, timeout)\u001b[39m\n\u001b[32m   1194\u001b[39m     \u001b[38;5;28mself\u001b[39m._stdin_write(\u001b[38;5;28minput\u001b[39m)\n\u001b[32m   1195\u001b[39m \u001b[38;5;28;01melif\u001b[39;00m \u001b[38;5;28mself\u001b[39m.stdout:\n\u001b[32m-> \u001b[39m\u001b[32m1196\u001b[39m     stdout = \u001b[38;5;28;43mself\u001b[39;49m\u001b[43m.\u001b[49m\u001b[43mstdout\u001b[49m\u001b[43m.\u001b[49m\u001b[43mread\u001b[49m\u001b[43m(\u001b[49m\u001b[43m)\u001b[49m\n\u001b[32m   1197\u001b[39m     \u001b[38;5;28mself\u001b[39m.stdout.close()\n\u001b[32m   1198\u001b[39m \u001b[38;5;28;01melif\u001b[39;00m \u001b[38;5;28mself\u001b[39m.stderr:\n",
      "\u001b[31mKeyboardInterrupt\u001b[39m: "
     ]
    }
   ],
   "source": [
    "compare(HOST1, HOST2, PATH1, USER1, port=8932)"
   ]
  },
  {
   "cell_type": "code",
   "execution_count": null,
   "id": "cc8b9a71-9e6d-423d-bfb2-2cbbdee709eb",
   "metadata": {},
   "outputs": [],
   "source": []
  }
 ],
 "metadata": {
  "kernelspec": {
   "display_name": "Python 3 (ipykernel)",
   "language": "python",
   "name": "python3"
  },
  "language_info": {
   "codemirror_mode": {
    "name": "ipython",
    "version": 3
   },
   "file_extension": ".py",
   "mimetype": "text/x-python",
   "name": "python",
   "nbconvert_exporter": "python",
   "pygments_lexer": "ipython3",
   "version": "3.12.0"
  }
 },
 "nbformat": 4,
 "nbformat_minor": 5
}
